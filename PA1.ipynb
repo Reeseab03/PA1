{
 "cells": [
  {
   "cell_type": "markdown",
   "id": "115f2f79",
   "metadata": {},
   "source": [
    "# Programming Assignment 1"
   ]
  },
  {
   "cell_type": "markdown",
   "id": "237c0b81",
   "metadata": {},
   "source": [
    "## Reese Bottorff"
   ]
  },
  {
   "cell_type": "markdown",
   "id": "7b7c3f11",
   "metadata": {},
   "source": [
    "### CS-150-01"
   ]
  },
  {
   "cell_type": "code",
   "execution_count": 1,
   "id": "acd70efc",
   "metadata": {},
   "outputs": [
    {
     "name": "stdout",
     "output_type": "stream",
     "text": [
      "Enter a floating-point number: 44.3\n"
     ]
    }
   ],
   "source": [
    "number=float(input(\"Enter a floating-point number: \"))"
   ]
  },
  {
   "cell_type": "code",
   "execution_count": 2,
   "id": "4624d7c8",
   "metadata": {},
   "outputs": [
    {
     "name": "stdout",
     "output_type": "stream",
     "text": [
      "Enter an integer: 16\n"
     ]
    }
   ],
   "source": [
    "number=int(input(\"Enter an integer: \"))"
   ]
  },
  {
   "cell_type": "code",
   "execution_count": 3,
   "id": "d46c2d6d",
   "metadata": {},
   "outputs": [
    {
     "name": "stdout",
     "output_type": "stream",
     "text": [
      "The sum is 60.3\n"
     ]
    }
   ],
   "source": [
    "print(\"The sum is\", 35.3+25)"
   ]
  },
  {
   "cell_type": "code",
   "execution_count": 4,
   "id": "0ad4785c",
   "metadata": {},
   "outputs": [
    {
     "name": "stdout",
     "output_type": "stream",
     "text": [
      "The difference is 28.3\n"
     ]
    }
   ],
   "source": [
    "print(\"The difference is\", 58-29.7)"
   ]
  },
  {
   "cell_type": "code",
   "execution_count": 6,
   "id": "e64d7dc9",
   "metadata": {},
   "outputs": [
    {
     "name": "stdout",
     "output_type": "stream",
     "text": [
      "The product is 708.8\n"
     ]
    }
   ],
   "source": [
    "print(\"The product is\", 141.76*5)"
   ]
  },
  {
   "cell_type": "code",
   "execution_count": 8,
   "id": "ee4f72c0",
   "metadata": {},
   "outputs": [
    {
     "name": "stdout",
     "output_type": "stream",
     "text": [
      "The quotient is 2.768\n"
     ]
    }
   ],
   "source": [
    "print(\"The quotient is\", 2.768/1)"
   ]
  },
  {
   "cell_type": "code",
   "execution_count": 10,
   "id": "e8fc417c",
   "metadata": {},
   "outputs": [
    {
     "name": "stdout",
     "output_type": "stream",
     "text": [
      "Enter the floating-point number: 4.5\n"
     ]
    }
   ],
   "source": [
    "number=float(input(\"Enter the floating-point number: \"))"
   ]
  },
  {
   "cell_type": "code",
   "execution_count": 11,
   "id": "187a9cad",
   "metadata": {},
   "outputs": [
    {
     "name": "stdout",
     "output_type": "stream",
     "text": [
      "<class 'float'>\n"
     ]
    }
   ],
   "source": [
    "print(type(number))"
   ]
  }
 ],
 "metadata": {
  "kernelspec": {
   "display_name": "Python 3 (ipykernel)",
   "language": "python",
   "name": "python3"
  },
  "language_info": {
   "codemirror_mode": {
    "name": "ipython",
    "version": 3
   },
   "file_extension": ".py",
   "mimetype": "text/x-python",
   "name": "python",
   "nbconvert_exporter": "python",
   "pygments_lexer": "ipython3",
   "version": "3.9.13"
  }
 },
 "nbformat": 4,
 "nbformat_minor": 5
}
